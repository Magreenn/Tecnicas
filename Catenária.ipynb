{
 "cells": [
  {
   "cell_type": "markdown",
   "metadata": {
    "toc": true
   },
   "source": [
    "<h1>Índices<span class=\"tocSkip\"></span></h1>\n",
    "<div class=\"toc\"><ul class=\"toc-item\"><li><span><a href=\"#Derivada-Central\" data-toc-modified-id=\"Derivada-Central-1\"><span class=\"toc-item-num\">1&nbsp;&nbsp;</span>Derivada Central</a></span></li><li><span><a href=\"#Algorítimo-de-Newton-Raphson\" data-toc-modified-id=\"Algorítimo-de-Newton-Raphson-2\"><span class=\"toc-item-num\">2&nbsp;&nbsp;</span>Algorítimo de Newton-Raphson</a></span><ul class=\"toc-item\"><li><span><a href=\"#Exemplo-do-Slide\" data-toc-modified-id=\"Exemplo-do-Slide-2.1\"><span class=\"toc-item-num\">2.1&nbsp;&nbsp;</span>Exemplo do Slide</a></span></li></ul></li><li><span><a href=\"#Catenária\" data-toc-modified-id=\"Catenária-3\"><span class=\"toc-item-num\">3&nbsp;&nbsp;</span>Catenária</a></span></li><li><span><a href=\"#Gráfico\" data-toc-modified-id=\"Gráfico-4\"><span class=\"toc-item-num\">4&nbsp;&nbsp;</span>Gráfico</a></span></li><li><span><a href=\"#Exemplo-1\" data-toc-modified-id=\"Exemplo-1-5\"><span class=\"toc-item-num\">5&nbsp;&nbsp;</span>Exemplo 1</a></span></li><li><span><a href=\"#Rigidez-do-Sistema\" data-toc-modified-id=\"Rigidez-do-Sistema-6\"><span class=\"toc-item-num\">6&nbsp;&nbsp;</span>Rigidez do Sistema</a></span></li><li><span><a href=\"#Monte-Carlo\" data-toc-modified-id=\"Monte-Carlo-7\"><span class=\"toc-item-num\">7&nbsp;&nbsp;</span>Monte Carlo</a></span></li><li><span><a href=\"#Catenaria:-Monte-Carlo\" data-toc-modified-id=\"Catenaria:-Monte-Carlo-8\"><span class=\"toc-item-num\">8&nbsp;&nbsp;</span>Catenaria: Monte Carlo</a></span></li><li><span><a href=\"#Exemplo-2\" data-toc-modified-id=\"Exemplo-2-9\"><span class=\"toc-item-num\">9&nbsp;&nbsp;</span>Exemplo 2</a></span></li></ul></div>"
   ]
  },
  {
   "cell_type": "markdown",
   "metadata": {},
   "source": [
    "<a rel=\"license\" href=\"http://creativecommons.org/licenses/by-sa/3.0/br/\"><img alt=\"Licença Creative Commons\" style=\"border-width:0\" src=\"https://i.creativecommons.org/l/by-sa/3.0/br/88x31.png\" /></a><br />Este obra está licenciado com uma Licença <a rel=\"license\" href=\"http://creativecommons.org/licenses/by-sa/3.0/br/\">Creative Commons Atribuição-CompartilhaIgual 3.0 Brasil</a>."
   ]
  },
  {
   "cell_type": "markdown",
   "metadata": {},
   "source": [
    "<img src=\"https://github.com/Magreenn/nbinteract-server/blob/main/Tecnicas/img/Logo-Poli_colorida_horizontal.png?raw=true\" width=700 />"
   ]
  },
  {
   "cell_type": "markdown",
   "metadata": {},
   "source": [
    "# Tecnicas de Programação <a class=\"tocSkip\"> </a>\n",
    "## *Catenária: Problema de Riser suspenso por um cabo*<a class=\"tocSkip\"> </a>\n",
    "\n",
    "###### João Pedro Nunes Cavalcante  DRE: 116082493\n",
    "###### André Vitor Bolanho Rocha de Oliveira DRE: 116180429 \n",
    "###### Polyanna Pascoal de Sousa Domingues DRE: 116158456\n",
    "\n",
    "---"
   ]
  },
  {
   "cell_type": "markdown",
   "metadata": {},
   "source": [
    "#### Algumas bibliotecas usadas durante esse notebook <a class=\"tocSkip\"> </a>"
   ]
  },
  {
   "cell_type": "code",
   "execution_count": 2,
   "metadata": {
    "cell_style": "center"
   },
   "outputs": [],
   "source": [
    "import numpy as np\n",
    "import matplotlib.pyplot as plt\n",
    "from jupyterthemes import jtplot as jt\n",
    "from ipywidgets import Layout, FloatText, interactive\n",
    "jt.style(theme=\"gruvboxd\")"
   ]
  },
  {
   "cell_type": "markdown",
   "metadata": {},
   "source": [
    "---"
   ]
  },
  {
   "cell_type": "markdown",
   "metadata": {},
   "source": [
    "## Derivada Central"
   ]
  },
  {
   "cell_type": "code",
   "execution_count": 3,
   "metadata": {},
   "outputs": [],
   "source": [
    "def df(f, x, h):\n",
    "    \"\"\"Calcula uma aproximação da primeira derivada de f, nos pontos do vetor x, usando passos de tamanho h.\"\"\"\n",
    "    return (f(x+h) - f(x-h))/(2*h)"
   ]
  },
  {
   "cell_type": "markdown",
   "metadata": {},
   "source": [
    "---"
   ]
  },
  {
   "cell_type": "markdown",
   "metadata": {},
   "source": [
    "## Algorítimo de Newton-Raphson"
   ]
  },
  {
   "cell_type": "code",
   "execution_count": 4,
   "metadata": {},
   "outputs": [],
   "source": [
    "def newton(f, x0, Y=0, prec_x=1e-6, prec_y=1e-6, maxsteps=100):\n",
    "    \"\"\"Método de Newton para encontrar o zero de f.\n",
    "\n",
    "    Retorna uma lista dos pontos considerados, exceto o ponto inicial.\n",
    "\n",
    "    `df' é uma função que retorna a derivada de f, e `x0' é o valor\n",
    "    inicial da iteração.\"\"\"\n",
    "    x_list = []\n",
    "    for i in range(maxsteps):\n",
    "        passo = (f(x0)-Y)/df(f, x0, prec_x)\n",
    "        x = x0 - passo\n",
    "        x_list.append(x)\n",
    "        if abs(passo) < prec_x or abs(f(x)-Y) < prec_y:\n",
    "            return x_list\n",
    "        x0 = x\n",
    "    raise \"O Número Máximo de Iterações foi atingido\""
   ]
  },
  {
   "cell_type": "markdown",
   "metadata": {},
   "source": [
    "### Exemplo do Slide"
   ]
  },
  {
   "cell_type": "code",
   "execution_count": 5,
   "metadata": {},
   "outputs": [],
   "source": [
    "def func(x): return x**2 - 2*x - 3"
   ]
  },
  {
   "cell_type": "code",
   "execution_count": 6,
   "metadata": {},
   "outputs": [
    {
     "data": {
      "text/plain": [
       "([3.500000000209667,\n",
       "  3.0500000001428362,\n",
       "  3.0006097561076746,\n",
       "  3.000000092922425],\n",
       " [-2.3333333337060744,\n",
       "  -1.2666666669578717,\n",
       "  -1.0156862745252164,\n",
       "  -1.0000610360862474,\n",
       "  -1.0000000009313168],\n",
       " [3.6250000001921947, 3.26488095244652, 3.236251251494051, 3.2360679850100023])"
      ]
     },
     "execution_count": 6,
     "metadata": {},
     "output_type": "execute_result"
    }
   ],
   "source": [
    "r1 = newton(func, 5)\n",
    "r2 = newton(func, -5)\n",
    "r3 = newton(func, 5,Y=1, prec_x=1e-6, prec_y=1e-6)\n",
    "r1, r2, r3"
   ]
  },
  {
   "cell_type": "markdown",
   "metadata": {},
   "source": [
    "---"
   ]
  },
  {
   "cell_type": "markdown",
   "metadata": {},
   "source": [
    "## Catenária"
   ]
  },
  {
   "cell_type": "code",
   "execution_count": 7,
   "metadata": {},
   "outputs": [],
   "source": [
    "def catenaria(L, st, xa, ya, w, theta, prec=1e-3):\n",
    "    theta_i = 1\n",
    "    theta_f = theta\n",
    "    fh_i = 1\n",
    "    xt_i = 200\n",
    "    while abs(theta_f-theta_i) > prec:\n",
    "        theta_i = theta_f\n",
    "        yc_i = ya-L*np.cos(theta_i)\n",
    "        xt_2 = xa-L*np.sin(theta_i)\n",
    "        while abs(xt_i-xt_2) > prec:\n",
    "            a = fh_i/w\n",
    "            xc = a*np.arccosh((yc_i+a)/a)\n",
    "            s = a*np.sinh(xc/a)\n",
    "            fv = w*s\n",
    "            ft = np.sqrt(fh_i**2 + fv**2)\n",
    "            xh = st-s\n",
    "            # trocando tetha\n",
    "            theta_f = np.arctan(fh_i/fv)\n",
    "            # trocando xt\n",
    "            xt_i = xh+xc\n",
    "            G = lambda fh: (xh + ((fh/w)*np.arccosh((yc_i*w+fh)/fh)))\n",
    "            lista = newton(G, x0=fh_i, Y=xt_2)\n",
    "            fh_i = lista[-1]\n",
    "    return fh_i, theta_f , ft"
   ]
  },
  {
   "cell_type": "code",
   "execution_count": 8,
   "metadata": {},
   "outputs": [
    {
     "name": "stdout",
     "output_type": "stream",
     "text": [
      "A força horizontal é de 1048.426N\n",
      "O ângulo teta é de 7.30°\n"
     ]
    }
   ],
   "source": [
    "fh, theta,_ = catenaria(L=2, xa=33, ya=20, w=400, st=46, theta=5)\n",
    "print(f'A força horizontal é de {fh:.3f}N',\n",
    "      f'O ângulo teta é de {np.degrees(theta):.2f}°', sep=\"\\n\")"
   ]
  },
  {
   "cell_type": "markdown",
   "metadata": {},
   "source": [
    "---"
   ]
  },
  {
   "cell_type": "markdown",
   "metadata": {},
   "source": [
    "## Gráfico"
   ]
  },
  {
   "cell_type": "code",
   "execution_count": 9,
   "metadata": {
    "scrolled": false
   },
   "outputs": [],
   "source": [
    "def plot(func):\n",
    "    def do(L, Xa, ya, w, st, theta, prec):\n",
    "        # dados\n",
    "        fh, theta, ft = func(L, st, Xa, ya, w, theta, prec)\n",
    "        Xt = Xa-L*np.sin(theta)\n",
    "        yc = ya-L*np.cos(theta)\n",
    "        a = fh/w\n",
    "        Xc = a*np.arccosh((yc+a)/a)\n",
    "        s = a*np.sinh(Xc/a)\n",
    "        if (Xt-Xc)>0:\n",
    "            Xh = Xt-Xc\n",
    "        else:\n",
    "            Xh=0\n",
    "        # resposta dos cálculos\n",
    "        print(f'A força horizontal é de {fh:.2f}N',\n",
    "              f'O ângulo teta é de {np.degrees(theta):.2f}°',\n",
    "              f'a = {a:.2f}',\n",
    "              f'Xh = {Xh:.2f}m',\n",
    "              f'Xc = {Xc:.2f}m',\n",
    "              f'Xt = {Xt:.2f}m',\n",
    "              f'yc = {yc:.2f}m',\n",
    "              f's = {s:.2f}m',\n",
    "              f'ft = {ft:.2f}N',sep=\"\\n\")\n",
    "        # plot do riser no solo\n",
    "        eiXo_solo = np.linspace(0, Xh)\n",
    "        plt.plot(eiXo_solo, np.zeros(np.shape(eiXo_solo)), label=\"Riser no solo marinho\")\n",
    "        # plot do riser em catenária\n",
    "        eiXo = np.linspace(Xh, Xt)\n",
    "        ys = a*(np.cosh((eiXo-Xh)/a)-1)\n",
    "        plt.plot(eiXo, ys, label=\"Riser em catenária\")\n",
    "        # plot do cabo\n",
    "        eiXo_cabo = np.linspace(Xt, Xa)\n",
    "        cabo = (1/np.tan(theta))*(eiXo_cabo-Xt)+yc\n",
    "        plt.plot(eiXo_cabo, cabo, label=\"Cabo de sustentação\")\n",
    "        #eiXos\n",
    "        plt.title(f\"Geometria do Problema\")\n",
    "        plt.Xlabel(\"EiXo X (m)\")\n",
    "        plt.ylabel(\"EiXo Y (m)\")\n",
    "        plt.legend();\n",
    "    return do"
   ]
  },
  {
   "cell_type": "markdown",
   "metadata": {},
   "source": [
    "---"
   ]
  },
  {
   "cell_type": "markdown",
   "metadata": {},
   "source": [
    "## Exemplo 1"
   ]
  },
  {
   "cell_type": "code",
   "execution_count": 10,
   "metadata": {
    "code_folding": []
   },
   "outputs": [
    {
     "ename": "ValueError",
     "evalue": "cannot find widget or abbreviation for argument: 'Xa'",
     "output_type": "error",
     "traceback": [
      "\u001b[1;31m---------------------------------------------------------------------------\u001b[0m",
      "\u001b[1;31mValueError\u001b[0m                                Traceback (most recent call last)",
      "\u001b[1;32m<ipython-input-10-9cc09406e5de>\u001b[0m in \u001b[0;36m<module>\u001b[1;34m\u001b[0m\n\u001b[0;32m     11\u001b[0m \u001b[0mtheta\u001b[0m \u001b[1;33m=\u001b[0m \u001b[0mFloatText\u001b[0m\u001b[1;33m(\u001b[0m\u001b[0mdescription\u001b[0m\u001b[1;33m=\u001b[0m\u001b[1;34m'Ângulo Inicial (rad):'\u001b[0m\u001b[1;33m,\u001b[0m \u001b[0mvalue\u001b[0m\u001b[1;33m=\u001b[0m\u001b[1;36m5\u001b[0m\u001b[1;33m,\u001b[0m \u001b[0mstyle\u001b[0m\u001b[1;33m=\u001b[0m\u001b[0mstyle\u001b[0m\u001b[1;33m,\u001b[0m \u001b[0mlayout\u001b[0m \u001b[1;33m=\u001b[0m \u001b[0mbox_layout\u001b[0m\u001b[1;33m)\u001b[0m\u001b[1;33m\u001b[0m\u001b[1;33m\u001b[0m\u001b[0m\n\u001b[0;32m     12\u001b[0m \u001b[0mprec\u001b[0m \u001b[1;33m=\u001b[0m \u001b[0mFloatText\u001b[0m\u001b[1;33m(\u001b[0m\u001b[0mdescription\u001b[0m\u001b[1;33m=\u001b[0m\u001b[1;34m'Precisão:'\u001b[0m\u001b[1;33m,\u001b[0m \u001b[0mvalue\u001b[0m\u001b[1;33m=\u001b[0m\u001b[1;36m1e-3\u001b[0m\u001b[1;33m,\u001b[0m \u001b[0mstyle\u001b[0m\u001b[1;33m=\u001b[0m\u001b[0mstyle\u001b[0m\u001b[1;33m,\u001b[0m \u001b[0mlayout\u001b[0m \u001b[1;33m=\u001b[0m \u001b[0mbox_layout\u001b[0m\u001b[1;33m)\u001b[0m\u001b[1;33m\u001b[0m\u001b[1;33m\u001b[0m\u001b[0m\n\u001b[1;32m---> 13\u001b[1;33m \u001b[0minteractive\u001b[0m\u001b[1;33m(\u001b[0m\u001b[0mplot\u001b[0m\u001b[1;33m(\u001b[0m\u001b[0mcatenaria\u001b[0m\u001b[1;33m)\u001b[0m\u001b[1;33m,\u001b[0m \u001b[0mL\u001b[0m\u001b[1;33m=\u001b[0m\u001b[0mL\u001b[0m\u001b[1;33m,\u001b[0m \u001b[0mxa\u001b[0m\u001b[1;33m=\u001b[0m\u001b[0mxa\u001b[0m\u001b[1;33m,\u001b[0m \u001b[0mya\u001b[0m\u001b[1;33m=\u001b[0m\u001b[0mya\u001b[0m\u001b[1;33m,\u001b[0m \u001b[0mw\u001b[0m\u001b[1;33m=\u001b[0m\u001b[0mw\u001b[0m\u001b[1;33m,\u001b[0m \u001b[0mst\u001b[0m\u001b[1;33m=\u001b[0m\u001b[0mst\u001b[0m\u001b[1;33m,\u001b[0m \u001b[0mtheta\u001b[0m\u001b[1;33m=\u001b[0m\u001b[0mtheta\u001b[0m\u001b[1;33m,\u001b[0m \u001b[0mprec\u001b[0m\u001b[1;33m=\u001b[0m\u001b[0mprec\u001b[0m\u001b[1;33m)\u001b[0m\u001b[1;33m\u001b[0m\u001b[1;33m\u001b[0m\u001b[0m\n\u001b[0m",
      "\u001b[1;32m~\\anaconda3\\envs\\notebook5\\lib\\site-packages\\ipywidgets\\widgets\\interaction.py\u001b[0m in \u001b[0;36m__init__\u001b[1;34m(self, _interactive__interact_f, _interactive__options, **kwargs)\u001b[0m\n\u001b[0;32m    186\u001b[0m         \u001b[0mself\u001b[0m\u001b[1;33m.\u001b[0m\u001b[0mauto_display\u001b[0m \u001b[1;33m=\u001b[0m \u001b[0m__options\u001b[0m\u001b[1;33m.\u001b[0m\u001b[0mget\u001b[0m\u001b[1;33m(\u001b[0m\u001b[1;34m\"auto_display\"\u001b[0m\u001b[1;33m,\u001b[0m \u001b[1;32mFalse\u001b[0m\u001b[1;33m)\u001b[0m\u001b[1;33m\u001b[0m\u001b[1;33m\u001b[0m\u001b[0m\n\u001b[0;32m    187\u001b[0m \u001b[1;33m\u001b[0m\u001b[0m\n\u001b[1;32m--> 188\u001b[1;33m         \u001b[0mnew_kwargs\u001b[0m \u001b[1;33m=\u001b[0m \u001b[0mself\u001b[0m\u001b[1;33m.\u001b[0m\u001b[0mfind_abbreviations\u001b[0m\u001b[1;33m(\u001b[0m\u001b[0mkwargs\u001b[0m\u001b[1;33m)\u001b[0m\u001b[1;33m\u001b[0m\u001b[1;33m\u001b[0m\u001b[0m\n\u001b[0m\u001b[0;32m    189\u001b[0m         \u001b[1;31m# Before we proceed, let's make sure that the user has passed a set of args+kwargs\u001b[0m\u001b[1;33m\u001b[0m\u001b[1;33m\u001b[0m\u001b[1;33m\u001b[0m\u001b[0m\n\u001b[0;32m    190\u001b[0m         \u001b[1;31m# that will lead to a valid call of the function. This protects against unspecified\u001b[0m\u001b[1;33m\u001b[0m\u001b[1;33m\u001b[0m\u001b[1;33m\u001b[0m\u001b[0m\n",
      "\u001b[1;32m~\\anaconda3\\envs\\notebook5\\lib\\site-packages\\ipywidgets\\widgets\\interaction.py\u001b[0m in \u001b[0;36mfind_abbreviations\u001b[1;34m(self, kwargs)\u001b[0m\n\u001b[0;32m    286\u001b[0m             \u001b[1;32mfor\u001b[0m \u001b[0mname\u001b[0m\u001b[1;33m,\u001b[0m \u001b[0mvalue\u001b[0m\u001b[1;33m,\u001b[0m \u001b[0mdefault\u001b[0m \u001b[1;32min\u001b[0m \u001b[0m_yield_abbreviations_for_parameter\u001b[0m\u001b[1;33m(\u001b[0m\u001b[0mparam\u001b[0m\u001b[1;33m,\u001b[0m \u001b[0mkwargs\u001b[0m\u001b[1;33m)\u001b[0m\u001b[1;33m:\u001b[0m\u001b[1;33m\u001b[0m\u001b[1;33m\u001b[0m\u001b[0m\n\u001b[0;32m    287\u001b[0m                 \u001b[1;32mif\u001b[0m \u001b[0mvalue\u001b[0m \u001b[1;32mis\u001b[0m \u001b[0mempty\u001b[0m\u001b[1;33m:\u001b[0m\u001b[1;33m\u001b[0m\u001b[1;33m\u001b[0m\u001b[0m\n\u001b[1;32m--> 288\u001b[1;33m                     \u001b[1;32mraise\u001b[0m \u001b[0mValueError\u001b[0m\u001b[1;33m(\u001b[0m\u001b[1;34m'cannot find widget or abbreviation for argument: {!r}'\u001b[0m\u001b[1;33m.\u001b[0m\u001b[0mformat\u001b[0m\u001b[1;33m(\u001b[0m\u001b[0mname\u001b[0m\u001b[1;33m)\u001b[0m\u001b[1;33m)\u001b[0m\u001b[1;33m\u001b[0m\u001b[1;33m\u001b[0m\u001b[0m\n\u001b[0m\u001b[0;32m    289\u001b[0m                 \u001b[0mnew_kwargs\u001b[0m\u001b[1;33m.\u001b[0m\u001b[0mappend\u001b[0m\u001b[1;33m(\u001b[0m\u001b[1;33m(\u001b[0m\u001b[0mname\u001b[0m\u001b[1;33m,\u001b[0m \u001b[0mvalue\u001b[0m\u001b[1;33m,\u001b[0m \u001b[0mdefault\u001b[0m\u001b[1;33m)\u001b[0m\u001b[1;33m)\u001b[0m\u001b[1;33m\u001b[0m\u001b[1;33m\u001b[0m\u001b[0m\n\u001b[0;32m    290\u001b[0m         \u001b[1;32mreturn\u001b[0m \u001b[0mnew_kwargs\u001b[0m\u001b[1;33m\u001b[0m\u001b[1;33m\u001b[0m\u001b[0m\n",
      "\u001b[1;31mValueError\u001b[0m: cannot find widget or abbreviation for argument: 'Xa'"
     ]
    }
   ],
   "source": [
    "style = {'description_width': 'initial'}\n",
    "box_layout = Layout(display='flex',\n",
    "                    flex_flow='row',\n",
    "                    align_items='stretch',\n",
    "                    width='30%')\n",
    "L = FloatText(description='Comprimento do Cabo (m):', value=2, style=style, layout = box_layout)\n",
    "xa = FloatText(description='Distância Horizontal (m):', value=33, style=style, layout = box_layout)\n",
    "ya = FloatText(description='Profundidade (m):', value=20, style=style, layout = box_layout)\n",
    "w = FloatText(description='Peso Linear (N/m):', value=400, style=style, layout = box_layout)\n",
    "st = FloatText(description='Comprimento Riser (m):', value=46, style=style, layout = box_layout)\n",
    "theta = FloatText(description='Ângulo Inicial (rad):', value=5, style=style, layout = box_layout)\n",
    "prec = FloatText(description='Precisão:', value=1e-3, style=style, layout = box_layout)\n",
    "interactive(plot(catenaria), L=L, xa=xa, ya=ya, w=w, st=st, theta=theta, prec=prec)"
   ]
  },
  {
   "cell_type": "markdown",
   "metadata": {},
   "source": [
    "---"
   ]
  },
  {
   "cell_type": "markdown",
   "metadata": {},
   "source": [
    "## Rigidez do Sistema"
   ]
  },
  {
   "cell_type": "code",
   "execution_count": null,
   "metadata": {},
   "outputs": [],
   "source": [
    "# dados\n",
    "l_s = np.linspace(1, 4)\n",
    "ft_s = [catenaria(L=i, xa=33, ya=20, w=400, st=46, theta=5)[2] for i in l_s]\n",
    "ft_s = np.array(ft_s)\n",
    "# eixos\n",
    "plt.title(f\"Rigidez do Sistema\")\n",
    "plt.xlabel(\"Comprimento do Cabo (m)\")\n",
    "plt.ylabel(\"Força Total (N)\")\n",
    "# ajuste de reta\n",
    "A = np.vstack([l_s, np.ones(len(l_s))]).T\n",
    "E, c = np.linalg.lstsq(A, ft_s, rcond=None)[0]\n",
    "y_s = E*l_s+c\n",
    "# plot\n",
    "plt.plot(l_s, ft_s, label=\"Curva de Correlação\")\n",
    "plt.plot(l_s, y_s, color=\"Orange\", label=\"Ajuste Linear\")\n",
    "plt.legend()\n",
    "print(f'A Rigidez do Sistema é {-E:.3f}N/m')"
   ]
  },
  {
   "cell_type": "markdown",
   "metadata": {},
   "source": [
    "---"
   ]
  },
  {
   "cell_type": "markdown",
   "metadata": {},
   "source": [
    "## Monte Carlo"
   ]
  },
  {
   "cell_type": "code",
   "execution_count": null,
   "metadata": {},
   "outputs": [],
   "source": [
    "def monte_carlo(f, Y, a, b, N=1000, prec=1e-6):\n",
    "    x = np.sort(np.random.uniform(a,b,size=N))\n",
    "    lista = f(x)-Y\n",
    "    for i,y in enumerate(lista):\n",
    "        if abs(y)<prec:\n",
    "            return x[i]\n",
    "    a = [x[i] for i,y in enumerate(lista) if y<0][-1]\n",
    "    b = [x[i] for i,y in enumerate(lista) if y>=0][0]\n",
    "    return monte_carlo(f, Y, a, b)"
   ]
  },
  {
   "cell_type": "markdown",
   "metadata": {},
   "source": [
    "## Catenaria: Monte Carlo"
   ]
  },
  {
   "cell_type": "code",
   "execution_count": null,
   "metadata": {},
   "outputs": [],
   "source": [
    "def catenaria_mc(L, st, xa, ya, w, theta, prec=1e-3):\n",
    "    theta_i = 1\n",
    "    theta_f = theta\n",
    "    fh_i = 1\n",
    "    xt_i = 200\n",
    "    while abs(theta_f-theta_i) > prec:\n",
    "        theta_i = theta_f\n",
    "        yc_i = ya-L*np.cos(theta_i)\n",
    "        xt_2 = xa-L*np.sin(theta_i)\n",
    "        while abs(xt_i-xt_2) > prec:\n",
    "            a = fh_i/w\n",
    "            xc = a*np.arccosh((yc_i+a)/a)\n",
    "            s = a*np.sinh(xc/a)\n",
    "            fv = w*s\n",
    "            ft = np.sqrt(fh_i**2 + fv**2)\n",
    "            xh = st-s\n",
    "            # trocando tetha\n",
    "            theta_f = np.arctan(fh_i/fv)\n",
    "            # trocando xt\n",
    "            xt_i = xh+xc\n",
    "            G = lambda fh: (xh + ((fh/w)*np.arccosh((yc_i*w+fh)/fh)))\n",
    "            fh_i = monte_carlo(f=G, Y=xt_2, a=0, b=5000, N=10000, prec=1e-6) \n",
    "    return fh_i, theta_f , ft"
   ]
  },
  {
   "cell_type": "code",
   "execution_count": 37,
   "metadata": {
    "code_folding": [],
    "scrolled": true
   },
   "outputs": [
    {
     "name": "stdout",
     "output_type": "stream",
     "text": [
      "[0.16253345 0.16218528 0.16195592 ... 0.01189258 0.01200478 0.01195979]\n",
      "1499.9278679075287\n",
      "9.999356745736712\n"
     ]
    }
   ],
   "source": [
    "def catenaria_mc2(L, st, xa, ya, w, theta_a, theta_b, fh_a, fh_b, N, prec=1e-6):\n",
    "    theta_1 = np.sort(np.random.uniform(np.radians(theta_a), np.radians(theta_b), size=N))\n",
    "    fh_1 = np.sort(np.random.uniform(fh_a, fh_b, size=N))\n",
    "    yc = ya-L*np.cos(theta_1)\n",
    "    xt_1 = xa-L*np.sin(theta_1)\n",
    "    a = fh_1/w\n",
    "    xc = a*np.arccosh((yc+a)/a)\n",
    "    s = a*np.sinh(xc/a)\n",
    "    fv = w*s\n",
    "    ft = np.sqrt(fh_1**2 + fv**2)\n",
    "    xh = st-s\n",
    "    theta_2 = np.arctan(fh_1/fv)\n",
    "    xt_2 = xh + xc\n",
    "    err = np.abs(0.5*(theta_1-theta_2)/theta_1 + 0.5*(xt_1-xt_2)/xt_1)\n",
    "    print(err)\n",
    "    for i, err in enumerate(err): \n",
    "        if err < prec:\n",
    "            return fh_1[i], theta_1[i], ft[i]\n",
    "    \n",
    "         \n",
    "    print(fh_1[i])\n",
    "    print(np.degrees(theta_1[i]))\n",
    "    \n",
    "catenaria_mc2(L=2, xa=33, ya=20, w=400, st=46, theta_a=2, theta_b=10,fh_a=200, fh_b=1500,N=10000)"
   ]
  },
  {
   "cell_type": "markdown",
   "metadata": {},
   "source": [
    "## Exemplo 2"
   ]
  },
  {
   "cell_type": "code",
   "execution_count": null,
   "metadata": {},
   "outputs": [],
   "source": [
    "style = {'description_width': 'initial'}\n",
    "box_layout = Layout(display='flex',\n",
    "                    flex_flow='row',\n",
    "                    align_items='stretch',\n",
    "                    width='30%')\n",
    "L = FloatText(description='Comprimento do Cabo (m):', value=2, style=style, layout = box_layout)\n",
    "xa = FloatText(description='Distância Horizontal (m):', value=33, style=style, layout = box_layout)\n",
    "ya = FloatText(description='Profundidade (m):', value=20, style=style, layout = box_layout)\n",
    "w = FloatText(description='Peso Linear (N/m):', value=400, style=style, layout = box_layout)\n",
    "st = FloatText(description='Comprimento Riser (m):', value=46, style=style, layout = box_layout)\n",
    "theta = FloatText(description='Ângulo Inicial (rad):', value=5, style=style, layout = box_layout)\n",
    "prec = FloatText(description='Precisão:', value=1e-3, style=style, layout = box_layout)\n",
    "interactive(plot(catenaria_mc), L=L, xa=xa, ya=ya, w=w, st=st, theta=theta, prec=prec)"
   ]
  }
 ],
 "metadata": {
  "kernelspec": {
   "display_name": "Python 3",
   "language": "python",
   "name": "python3"
  },
  "toc": {
   "base_numbering": 1,
   "nav_menu": {},
   "number_sections": true,
   "sideBar": false,
   "skip_h1_title": true,
   "title_cell": "Índices",
   "title_sidebar": "Contents",
   "toc_cell": true,
   "toc_position": {
    "height": "47.4219px",
    "left": "1155.02px",
    "top": "52px",
    "width": "211.969px"
   },
   "toc_section_display": true,
   "toc_window_display": true
  },
  "varInspector": {
   "cols": {
    "lenName": 16,
    "lenType": 16,
    "lenVar": 40
   },
   "kernels_config": {
    "python": {
     "delete_cmd_postfix": "",
     "delete_cmd_prefix": "del ",
     "library": "var_list.py",
     "varRefreshCmd": "print(var_dic_list())"
    },
    "r": {
     "delete_cmd_postfix": ") ",
     "delete_cmd_prefix": "rm(",
     "library": "var_list.r",
     "varRefreshCmd": "cat(var_dic_list()) "
    }
   },
   "position": {
    "height": "686.753px",
    "left": "833.955px",
    "right": "20px",
    "top": "35.934px",
    "width": "585.521px"
   },
   "types_to_exclude": [
    "module",
    "function",
    "builtin_function_or_method",
    "instance",
    "_Feature"
   ],
   "window_display": false
  }
 },
 "nbformat": 4,
 "nbformat_minor": 2
}
