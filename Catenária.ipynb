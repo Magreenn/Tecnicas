{
 "cells": [
  {
   "cell_type": "markdown",
   "metadata": {
    "toc": true
   },
   "source": [
    "<h1>Índices<span class=\"tocSkip\"></span></h1>\n",
    "<div class=\"toc\"><ul class=\"toc-item\"><li><span><a href=\"#Derivada-Central\" data-toc-modified-id=\"Derivada-Central-1\"><span class=\"toc-item-num\">1&nbsp;&nbsp;</span>Derivada Central</a></span></li><li><span><a href=\"#Algorítimo-de-Newton-Raphson\" data-toc-modified-id=\"Algorítimo-de-Newton-Raphson-2\"><span class=\"toc-item-num\">2&nbsp;&nbsp;</span>Algorítimo de Newton-Raphson</a></span><ul class=\"toc-item\"><li><span><a href=\"#Exemplo-do-Slide\" data-toc-modified-id=\"Exemplo-do-Slide-2.1\"><span class=\"toc-item-num\">2.1&nbsp;&nbsp;</span>Exemplo do Slide</a></span></li></ul></li><li><span><a href=\"#Catenária\" data-toc-modified-id=\"Catenária-3\"><span class=\"toc-item-num\">3&nbsp;&nbsp;</span>Catenária</a></span></li><li><span><a href=\"#Gráfico\" data-toc-modified-id=\"Gráfico-4\"><span class=\"toc-item-num\">4&nbsp;&nbsp;</span>Gráfico</a></span></li><li><span><a href=\"#Exemplo\" data-toc-modified-id=\"Exemplo-5\"><span class=\"toc-item-num\">5&nbsp;&nbsp;</span>Exemplo</a></span></li><li><span><a href=\"#Rigidez-do-Sistema\" data-toc-modified-id=\"Rigidez-do-Sistema-6\"><span class=\"toc-item-num\">6&nbsp;&nbsp;</span>Rigidez do Sistema</a></span></li><li><span><a href=\"#Catenaria:-Monte-Carlo\" data-toc-modified-id=\"Catenaria:-Monte-Carlo-7\"><span class=\"toc-item-num\">7&nbsp;&nbsp;</span>Catenaria: Monte Carlo</a></span></li></ul></div>"
   ]
  },
  {
   "cell_type": "markdown",
   "metadata": {},
   "source": [
    "<a rel=\"license\" href=\"http://creativecommons.org/licenses/by-sa/3.0/br/\"><img alt=\"Licença Creative Commons\" style=\"border-width:0\" src=\"https://i.creativecommons.org/l/by-sa/3.0/br/88x31.png\" /></a><br />Este obra está licenciado com uma Licença <a rel=\"license\" href=\"http://creativecommons.org/licenses/by-sa/3.0/br/\">Creative Commons Atribuição-CompartilhaIgual 3.0 Brasil</a>."
   ]
  },
  {
   "cell_type": "markdown",
   "metadata": {},
   "source": [
    "<img src=\"https://github.com/Magreenn/nbinteract-server/blob/main/Tecnicas/img/Logo-Poli_colorida_horizontal.png?raw=true\" width=700 />"
   ]
  },
  {
   "cell_type": "markdown",
   "metadata": {},
   "source": [
    "# Tecnicas de Programação <a class=\"tocSkip\"> </a>\n",
    "## *Catenária: Problema de Riser suspenso por um cabo*<a class=\"tocSkip\"> </a>\n",
    "\n",
    "###### João Pedro Nunes Cavalcante  DRE: 116082493\n",
    "###### André Vitor Bolanho Rocha de Oliveira DRE: 116180429 \n",
    "###### Polyanna Pascoal de Sousa Domingues DRE: 116158456\n",
    "\n",
    "---"
   ]
  },
  {
   "cell_type": "markdown",
   "metadata": {},
   "source": [
    "#### Algumas bibliotecas usadas durante esse notebook <a class=\"tocSkip\"> </a>"
   ]
  },
  {
   "cell_type": "code",
   "execution_count": 1,
   "metadata": {
    "cell_style": "center"
   },
   "outputs": [],
   "source": [
    "import numpy as np\n",
    "import math as m\n",
    "import matplotlib.pyplot as plt\n",
    "from jupyterthemes import jtplot as jt\n",
    "from ipywidgets import Layout, FloatText, interactive\n",
    "jt.style(theme=\"gruvboxd\")"
   ]
  },
  {
   "cell_type": "markdown",
   "metadata": {},
   "source": [
    "---"
   ]
  },
  {
   "cell_type": "markdown",
   "metadata": {},
   "source": [
    "## Derivada Central"
   ]
  },
  {
   "cell_type": "code",
   "execution_count": 2,
   "metadata": {},
   "outputs": [],
   "source": [
    "def df(f, x, h):\n",
    "    \"\"\"Calcula uma aproximação da primeira derivada de f, nos pontos do vetor x, usando passos de tamanho h.\"\"\"\n",
    "    return (f(x+h) - f(x-h))/(2*h)"
   ]
  },
  {
   "cell_type": "markdown",
   "metadata": {},
   "source": [
    "---"
   ]
  },
  {
   "cell_type": "markdown",
   "metadata": {},
   "source": [
    "## Algorítimo de Newton-Raphson"
   ]
  },
  {
   "cell_type": "code",
   "execution_count": 3,
   "metadata": {},
   "outputs": [],
   "source": [
    "def newton(f, x0, Y=0, prec_x=1e-6, prec_y=1e-6, maxsteps=100):\n",
    "    \"\"\"Método de Newton para encontrar o zero de f.\n",
    "\n",
    "    Retorna uma lista dos pontos considerados, exceto o ponto inicial.\n",
    "\n",
    "    `df' é uma função que retorna a derivada de f, e `x0' é o valor\n",
    "    inicial da iteração.\"\"\"\n",
    "    x_list = []\n",
    "    for i in range(maxsteps):\n",
    "        passo = (f(x0)-Y)/df(f, x0, prec_x)\n",
    "        x = x0 - passo\n",
    "        x_list.append(x)\n",
    "        if abs(passo) < prec_x or abs(f(x)-Y) < prec_y:\n",
    "            return x_list\n",
    "        x0 = x\n",
    "    raise \"O Número Máximo de Iterações foi atingido\""
   ]
  },
  {
   "cell_type": "markdown",
   "metadata": {},
   "source": [
    "### Exemplo do Slide"
   ]
  },
  {
   "cell_type": "code",
   "execution_count": 4,
   "metadata": {},
   "outputs": [],
   "source": [
    "def func(x): return x**2 - 2*x - 3"
   ]
  },
  {
   "cell_type": "code",
   "execution_count": 5,
   "metadata": {},
   "outputs": [
    {
     "data": {
      "text/plain": [
       "([3.500000000209667,\n",
       "  3.0500000001428362,\n",
       "  3.0006097561076746,\n",
       "  3.000000092922425],\n",
       " [-2.3333333337060744,\n",
       "  -1.2666666669578717,\n",
       "  -1.0156862745252164,\n",
       "  -1.0000610360862474,\n",
       "  -1.0000000009313168],\n",
       " [3.6250000001921947, 3.26488095244652, 3.236251251494051, 3.2360679850100023])"
      ]
     },
     "execution_count": 5,
     "metadata": {},
     "output_type": "execute_result"
    }
   ],
   "source": [
    "r1 = newton(func, 5)\n",
    "r2 = newton(func, -5)\n",
    "r3 = newton(func, 5,Y=1, prec_x=1e-6, prec_y=1e-6)\n",
    "r1, r2, r3"
   ]
  },
  {
   "cell_type": "markdown",
   "metadata": {},
   "source": [
    "---"
   ]
  },
  {
   "cell_type": "markdown",
   "metadata": {},
   "source": [
    "## Catenária"
   ]
  },
  {
   "cell_type": "code",
   "execution_count": 6,
   "metadata": {},
   "outputs": [],
   "source": [
    "def catenaria(L, st, xa, ya, w, theta, prec=1e-3):\n",
    "    theta_i = 1\n",
    "    theta_f = theta\n",
    "    fh_i = 1\n",
    "    xt_i = 200\n",
    "    while abs(theta_f-theta_i) > prec:\n",
    "        theta_i = theta_f\n",
    "        yc_i = ya-L*m.cos(theta_i)\n",
    "        xt_2 = xa-L*m.sin(theta_i)\n",
    "        while abs(xt_i-xt_2) > prec:\n",
    "            a = fh_i/w\n",
    "            xc = a*m.acosh((yc_i+a)/a)\n",
    "            s = a*m.sinh(xc/a)\n",
    "            fv = w*s\n",
    "            ft = m.sqrt(fh_i**2 + fv**2)\n",
    "            xh = st-s\n",
    "            # trocando tetha\n",
    "            theta_f = m.atan(fh_i/fv)\n",
    "            # trocando xt\n",
    "            xt_i = xh+xc\n",
    "            G = lambda fh: (xh + ((fh/w)*m.acosh((yc_i*w+fh)/fh)))\n",
    "            lista = newton(G, x0=fh_i, Y=xt_2)\n",
    "            fh_i = lista[-1]\n",
    "    return fh_i, theta_f , ft"
   ]
  },
  {
   "cell_type": "code",
   "execution_count": 7,
   "metadata": {},
   "outputs": [
    {
     "name": "stdout",
     "output_type": "stream",
     "text": [
      "A força horizontal é de 1048.426N\n",
      "O ângulo teta é de 7.30°\n"
     ]
    }
   ],
   "source": [
    "fh, theta,_ = catenaria(L=2, xa=33, ya=20, w=400, st=46, theta=5)\n",
    "print(f'A força horizontal é de {fh:.3f}N',\n",
    "      f'O ângulo teta é de {m.degrees(theta):.2f}°', sep=\"\\n\")"
   ]
  },
  {
   "cell_type": "markdown",
   "metadata": {},
   "source": [
    "---"
   ]
  },
  {
   "cell_type": "markdown",
   "metadata": {},
   "source": [
    "## Gráfico"
   ]
  },
  {
   "cell_type": "code",
   "execution_count": 8,
   "metadata": {
    "scrolled": false
   },
   "outputs": [],
   "source": [
    "def plot(L, xa, ya, w, st, theta, prec):\n",
    "    # dados\n",
    "    fh, theta, ft = catenaria(L, st, xa, ya, w, theta, prec)\n",
    "    xt = xa-L*m.sin(theta)\n",
    "    yc = ya-L*m.cos(theta)\n",
    "    a = fh/w\n",
    "    xc = a*m.acosh((yc+a)/a)\n",
    "    s = a*m.sinh(xc/a)\n",
    "    if (xt-xc)>0:\n",
    "        xh = xt-xc\n",
    "    else:\n",
    "        xh=0\n",
    "    # resposta dos cálculos\n",
    "    print(f'A força horizontal é de {fh:.2f}N',\n",
    "          f'O ângulo teta é de {m.degrees(theta):.2f}°',\n",
    "          f'a = {a:.2f}',\n",
    "          f'xh = {xh:.2f}m',\n",
    "          f'xc = {xc:.2f}m',\n",
    "          f'xt = {xt:.2f}m',\n",
    "          f'yc = {yc:.2f}m',\n",
    "          f's = {s:.2f}m',\n",
    "          f'ft = {ft:.2f}N',sep=\"\\n\")\n",
    "    # plot do riser no solo\n",
    "    eixo_solo = np.linspace(0, xh)\n",
    "    plt.plot(eixo_solo, np.zeros(np.shape(eixo_solo)), label=\"Riser no solo marinho\")\n",
    "    # plot do riser em catenária\n",
    "    eixo = np.linspace(xh, xt)\n",
    "    ys = a*(np.cosh((eixo-xh)/a)-1)\n",
    "    plt.plot(eixo, ys, label=\"Riser em catenária\")\n",
    "    # plot do cabo\n",
    "    eixo_cabo = np.linspace(xt, xa)\n",
    "    cabo = (1/m.tan(theta))*(eixo_cabo-xt)+yc\n",
    "    plt.plot(eixo_cabo, cabo, label=\"Cabo de sustentação\")\n",
    "    #eixos\n",
    "    plt.title(f\"Geometria do Problema\")\n",
    "    plt.xlabel(\"Eixo X (m)\")\n",
    "    plt.ylabel(\"Eixo Y (m)\")\n",
    "    plt.legend();"
   ]
  },
  {
   "cell_type": "markdown",
   "metadata": {},
   "source": [
    "---"
   ]
  },
  {
   "cell_type": "markdown",
   "metadata": {},
   "source": [
    "## Exemplo"
   ]
  },
  {
   "cell_type": "code",
   "execution_count": 9,
   "metadata": {
    "code_folding": []
   },
   "outputs": [
    {
     "data": {
      "application/vnd.jupyter.widget-view+json": {
       "model_id": "d2db9b26dcbf4474a6468bae47d57315",
       "version_major": 2,
       "version_minor": 0
      },
      "text/plain": [
       "interactive(children=(FloatText(value=2.0, description='Comprimento do Cabo (m):', layout=Layout(align_items='…"
      ]
     },
     "metadata": {},
     "output_type": "display_data"
    }
   ],
   "source": [
    "style = {'description_width': 'initial'}\n",
    "box_layout = Layout(display='flex',\n",
    "                    flex_flow='row',\n",
    "                    align_items='stretch',\n",
    "                    width='30%')\n",
    "L = FloatText(description='Comprimento do Cabo (m):', value=2, style=style, layout = box_layout)\n",
    "xa = FloatText(description='Distância Horizontal (m):', value=33, style=style, layout = box_layout)\n",
    "ya = FloatText(description='Profundidade (m):', value=20, style=style, layout = box_layout)\n",
    "w = FloatText(description='Peso Linear (N/m):', value=400, style=style, layout = box_layout)\n",
    "st = FloatText(description='Comprimento Riser (m):', value=46, style=style, layout = box_layout)\n",
    "theta = FloatText(description='Ângulo Inicial (rad):', value=5, style=style, layout = box_layout)\n",
    "prec = FloatText(description='Precisão:', value=1e-3, style=style, layout = box_layout)\n",
    "interactive(plot, L=L, xa=xa, ya=ya, w=w, st=st, theta=theta, prec=prec)"
   ]
  },
  {
   "cell_type": "markdown",
   "metadata": {},
   "source": [
    "---"
   ]
  },
  {
   "cell_type": "markdown",
   "metadata": {},
   "source": [
    "## Rigidez do Sistema"
   ]
  },
  {
   "cell_type": "code",
   "execution_count": 10,
   "metadata": {},
   "outputs": [
    {
     "name": "stdout",
     "output_type": "stream",
     "text": [
      "A Rigidez do Sistema é 741.201N/m\n"
     ]
    },
    {
     "data": {
      "image/png": "[encoded data removed]",
      "text/plain": [
       "<Figure size 460.8x403.2 with 1 Axes>"
      ]
     },
     "metadata": {},
     "output_type": "display_data"
    }
   ],
   "source": [
    "# dados\n",
    "l_s = np.linspace(1, 4)\n",
    "ft_s = [catenaria(L=i, xa=33, ya=20, w=400, st=46, theta=5)[2] for i in l_s]\n",
    "ft_s = np.array(ft_s)\n",
    "# eixos\n",
    "plt.title(f\"Rigidez do Sistema\")\n",
    "plt.xlabel(\"Comprimento do Cabo (m)\")\n",
    "plt.ylabel(\"Força Total (N)\")\n",
    "# ajuste de reta\n",
    "A = np.vstack([l_s, np.ones(len(l_s))]).T\n",
    "E, c = np.linalg.lstsq(A, ft_s, rcond=None)[0]\n",
    "y_s = E*l_s+c\n",
    "# plot\n",
    "plt.plot(l_s, ft_s, label=\"Curva de Correlação\")\n",
    "plt.plot(l_s, y_s, color=\"Orange\", label=\"Ajuste Linear\")\n",
    "plt.legend()\n",
    "print(f'A Rigidez do Sistema é {-E:.3f}N/m')"
   ]
  },
  {
   "cell_type": "markdown",
   "metadata": {},
   "source": [
    "---"
   ]
  },
  {
   "cell_type": "markdown",
   "metadata": {},
   "source": [
    "## Catenaria: Monte Carlo"
   ]
  }
 ],
 "metadata": {
  "kernelspec": {
   "display_name": "Python 3",
   "language": "python",
   "name": "python3"
  },
  "language_info": {
   "codemirror_mode": {
    "name": "ipython",
    "version": 3
   },
   "file_extension": ".py",
   "mimetype": "text/x-python",
   "name": "python",
   "nbconvert_exporter": "python",
   "pygments_lexer": "ipython3",
   "version": "3.8.5"
  },
  "toc": {
   "base_numbering": 1,
   "nav_menu": {},
   "number_sections": true,
   "sideBar": false,
   "skip_h1_title": true,
   "title_cell": "Índices",
   "title_sidebar": "Contents",
   "toc_cell": true,
   "toc_position": {
    "height": "47.4219px",
    "left": "1228.02px",
    "top": "53px",
    "width": "211.984px"
   },
   "toc_section_display": true,
   "toc_window_display": true
  },
  "varInspector": {
   "cols": {
    "lenName": 16,
    "lenType": 16,
    "lenVar": 40
   },
   "kernels_config": {
    "python": {
     "delete_cmd_postfix": "",
     "delete_cmd_prefix": "del ",
     "library": "var_list.py",
     "varRefreshCmd": "print(var_dic_list())"
    },
    "r": {
     "delete_cmd_postfix": ") ",
     "delete_cmd_prefix": "rm(",
     "library": "var_list.r",
     "varRefreshCmd": "cat(var_dic_list()) "
    }
   },
   "types_to_exclude": [
    "module",
    "function",
    "builtin_function_or_method",
    "instance",
    "_Feature"
   ],
   "window_display": false
  }
 },
 "nbformat": 4,
 "nbformat_minor": 2
}
